{
 "cells": [
  {
   "cell_type": "code",
   "execution_count": 9,
   "id": "d5f2416f",
   "metadata": {},
   "outputs": [
    {
     "name": "stderr",
     "output_type": "stream",
     "text": [
      "/var/folders/j_/tb9wr_hs6rsgft40qz8s8x3c0000gn/T/ipykernel_58421/1435207583.py:6: DeprecationWarning: executable_path has been deprecated, please pass in a Service object\n",
      "  driver = webdriver.Chrome('/Users/neo/Projects/chromedriver')  # 크롬드라이버 위치 (크롬버전확인)\n"
     ]
    }
   ],
   "source": [
    "from selenium import webdriver  # 웹수집 자동화를 위한 크롬 드라이버 호출\n",
    "from selenium.webdriver.common.keys import Keys\n",
    "import time, os\n",
    "import urllib.request\n",
    "\n",
    "driver = webdriver.Chrome('/Users/neo/Projects/chromedriver')  # 크롬드라이버 위치 (크롬버전확인)\n",
    "driver.get(\"https://www.google.co.kr/imghp?hl=ko&tab=wi&authuser=0&ogbl\")\n",
    "elem = driver.find_element(\"name\",\"q\")\n",
    "elem.send_keys(\"부자\")\n",
    "elem.send_keys(Keys.RETURN)\n",
    "\n",
    "os.makedirs('부자', exist_ok=True)\n",
    "\n",
    "SCROLL_PAUSE_TIME = 1\n",
    "# Get scroll height\n",
    "last_height = driver.execute_script(\"return document.body.scrollHeight\")\n",
    "while True:\n",
    "    # Scroll down to bottom\n",
    "    driver.execute_script(\"window.scrollTo(0, document.body.scrollHeight);\")\n",
    "    # Wait to load page\n",
    "    time.sleep(SCROLL_PAUSE_TIME)\n",
    "    # Calculate new scroll height and compare with last scroll height\n",
    "    new_height = driver.execute_script(\"return document.body.scrollHeight\")\n",
    "    if new_height == last_height:\n",
    "        try:\n",
    "            driver.find_element_by_css_selector(\".mye4qd\").click()\n",
    "        except:\n",
    "            break\n",
    "    last_height = new_height\n",
    "\n",
    "from selenium.webdriver.common.by import By\n",
    "\n",
    "images = driver.find_elements(By.CSS_SELECTOR, \".rg_i.Q4LuWd\")\n",
    "\n",
    "count = 1\n",
    "for image in images:\n",
    "    try:\n",
    "        image.click()\n",
    "        time.sleep(2)\n",
    "        imgUrl = driver.find_element_by_xpath('/html/body/div[2]/c-wiz/div[3]/div[2]/div[3]/div/div/div[3]/div[2]/c-wiz/div[1]/div[1]/div/div[2]/a/img').get_attribute(\"src\")\n",
    "        opener=urllib.request.build_opener()\n",
    "        opener.addheaders=[('User-Agent','Mozilla/5.0 (Windows NT 6.1; WOW64) AppleWebKit/537.36 (KHTML, like Gecko) Chrome/36.0.1941.0 Safari/537.36')]\n",
    "        urllib.request.install_opener(opener)\n",
    "        urllib.request.urlretrieve(imgUrl, '부자/'+ str(count) + \".jpg\")\n",
    "        count = count + 1\n",
    "    except:\n",
    "        pass\n",
    "\n",
    "driver.close()"
   ]
  },
  {
   "cell_type": "code",
   "execution_count": 11,
   "id": "f14245f4",
   "metadata": {},
   "outputs": [
    {
     "name": "stderr",
     "output_type": "stream",
     "text": [
      "/var/folders/j_/tb9wr_hs6rsgft40qz8s8x3c0000gn/T/ipykernel_58421/989854674.py:6: DeprecationWarning: executable_path has been deprecated, please pass in a Service object\n",
      "  driver = webdriver.Chrome('/Users/neo/Projects/chromedriver')  # 크롬드라이버 위치 (크롬버전확인)\n"
     ]
    }
   ],
   "source": [
    "from selenium import webdriver  # 웹수집 자동화를 위한 크롬 드라이버 호출\n",
    "from selenium.webdriver.common.keys import Keys\n",
    "import time, os\n",
    "import urllib.request\n",
    "\n",
    "driver = webdriver.Chrome('/Users/neo/Projects/chromedriver')  # 크롬드라이버 위치 (크롬버전확인)\n",
    "driver.get(\"https://www.google.co.kr/imghp?hl=ko&tab=wi&authuser=0&ogbl\")\n",
    "elem = driver.find_element(\"name\",\"q\")\n",
    "elem.send_keys(\"초록색 구두\")\n",
    "elem.send_keys(Keys.RETURN)\n",
    "\n",
    "os.makedirs('초록색 구두', exist_ok=True)\n",
    "\n",
    "SCROLL_PAUSE_TIME = 1\n",
    "# Get scroll height\n",
    "last_height = driver.execute_script(\"return document.body.scrollHeight\")\n",
    "while True:\n",
    "    # Scroll down to bottom\n",
    "    driver.execute_script(\"window.scrollTo(0, document.body.scrollHeight);\")\n",
    "    # Wait to load page\n",
    "    time.sleep(SCROLL_PAUSE_TIME)\n",
    "    # Calculate new scroll height and compare with last scroll height\n",
    "    new_height = driver.execute_script(\"return document.body.scrollHeight\")\n",
    "    if new_height == last_height:\n",
    "        try:\n",
    "            driver.find_element_by_css_selector(\".mye4qd\").click()\n",
    "        except:\n",
    "            break\n",
    "    last_height = new_height\n",
    "\n",
    "from selenium.webdriver.common.by import By\n",
    "\n",
    "images = driver.find_elements(By.CSS_SELECTOR, \".rg_i.Q4LuWd\")\n",
    "\n",
    "count = 1\n",
    "for image in images:\n",
    "    try:\n",
    "        image.click()\n",
    "        time.sleep(2)\n",
    "        imgUrl = driver.find_element_by_xpath('/html/body/div[2]/c-wiz/div[3]/div[2]/div[3]/div/div/div[3]/div[2]/c-wiz/div[1]/div[1]/div/div[2]/a/img').get_attribute(\"src\")\n",
    "        opener=urllib.request.build_opener()\n",
    "        opener.addheaders=[('User-Agent','Mozilla/5.0 (Windows NT 6.1; WOW64) AppleWebKit/537.36 (KHTML, like Gecko) Chrome/36.0.1941.0 Safari/537.36')]\n",
    "        urllib.request.install_opener(opener)\n",
    "        urllib.request.urlretrieve(imgUrl, '초록색 구두/'+ str(count) + \".jpg\")\n",
    "        count = count + 1\n",
    "    except:\n",
    "        pass\n",
    "\n",
    "driver.close()"
   ]
  },
  {
   "cell_type": "code",
   "execution_count": null,
   "id": "42228d31",
   "metadata": {},
   "outputs": [],
   "source": []
  }
 ],
 "metadata": {
  "kernelspec": {
   "display_name": "Python 3 (ipykernel)",
   "language": "python",
   "name": "python3"
  },
  "language_info": {
   "codemirror_mode": {
    "name": "ipython",
    "version": 3
   },
   "file_extension": ".py",
   "mimetype": "text/x-python",
   "name": "python",
   "nbconvert_exporter": "python",
   "pygments_lexer": "ipython3",
   "version": "3.9.13"
  }
 },
 "nbformat": 4,
 "nbformat_minor": 5
}
